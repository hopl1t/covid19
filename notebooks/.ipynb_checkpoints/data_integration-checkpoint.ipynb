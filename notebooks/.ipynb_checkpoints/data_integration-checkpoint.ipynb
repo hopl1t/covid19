{
 "cells": [
  {
   "cell_type": "code",
   "execution_count": 2,
   "metadata": {},
   "outputs": [],
   "source": [
    "import pickle\n",
    "import random\n",
    "import math\n",
    "import warnings\n",
    "import sklearn\n",
    "import pandas as pd\n",
    "import numpy as np\n",
    "import seaborn as sns\n",
    "import matplotlib.pyplot as plt\n",
    "from scipy import stats\n",
    "from datetime import datetime\n",
    "from datetime import timedelta\n",
    "%matplotlib inline\n",
    "# plt.matplotlib.rcParams.update({'font.size': 50})\n",
    "warnings.filterwarnings('ignore')\n",
    "plt.rcParams['figure.figsize'] = (12.0, 8.0) # set default size of plots\n",
    "plt.rcParams['image.interpolation'] = 'nearest'\n",
    "plt.rcParams['image.cmap'] = 'gray'   \n",
    "plt.rcParams[\"patch.force_edgecolor\"] = False\n",
    "plt.rc('figure', titlesize=25)"
   ]
  },
  {
   "cell_type": "code",
   "execution_count": 155,
   "metadata": {},
   "outputs": [],
   "source": [
    "AUG_PICKLE_PATH = '../augmented_datasets/pickles/hopkins_conf_gf0904_GDP_urban_weather_dem_age_dtests_pop.pkl'\n",
    "GF_PICKLE_PATH = '../augmented_datasets/pickles/hopkins_conf_withgr_augmented0904.pkl'\n",
    "RESULT_PATH = '../augmented_datasets/pickles/hopkins_confirmed_for_regression0904.pkl'"
   ]
  },
  {
   "cell_type": "code",
   "execution_count": 156,
   "metadata": {},
   "outputs": [],
   "source": [
    "aug_data = pd.read_pickle(AUG_PICKLE_PATH)\n",
    "gf_data = pd.read_pickle(GF_PICKLE_PATH)"
   ]
  },
  {
   "cell_type": "code",
   "execution_count": 157,
   "metadata": {},
   "outputs": [],
   "source": [
    "coords = list(set(aug_data.index.get_level_values(0)))"
   ]
  },
  {
   "cell_type": "code",
   "execution_count": 158,
   "metadata": {},
   "outputs": [],
   "source": [
    "columns_to_add = ['EXP_GF_Q1', 'EXP_GF_Q2', 'EXP_GF_Q3']\n",
    "for column in columns_to_add[::-1]:\n",
    "    aug_data.insert(23, column, np.nan)"
   ]
  },
  {
   "cell_type": "code",
   "execution_count": 159,
   "metadata": {},
   "outputs": [],
   "source": [
    "for coord in coords:\n",
    "    for column in columns_to_add:\n",
    "        aug_data.loc[coord][column]['data'] = gf_data.loc[coord][column]['data']"
   ]
  },
  {
   "cell_type": "code",
   "execution_count": 160,
   "metadata": {},
   "outputs": [
    {
     "name": "stdout",
     "output_type": "stream",
     "text": [
      "first_7: True, 7\n"
     ]
    }
   ],
   "source": [
    "aug_data['Province_State'] = aug_data[['Province_State']].fillna('')\n",
    "aug_data['State Population'] = aug_data[['State Population']].fillna(0)\n",
    "aug_data['Total Tests'] = aug_data[['Total Tests']].fillna(0)\n",
    "aug_data['Tests \\ Pop'] = aug_data[['Tests \\ Pop']].fillna(0)\n",
    "nan_countries = []\n",
    "nan_first_7 = []\n",
    "for column in aug_data.columns:\n",
    "    any_nan = aug_data[column].loc[:, 'data'].isna().any()\n",
    "    nulls = aug_data[column].loc[:, 'data'].isna().tolist()\n",
    "    if any_nan:\n",
    "        size = len([nul for nul in nulls if nul])\n",
    "        print('{0}: {1}, {2}'.format(column, any_nan, size))\n",
    "        for i in range(len(nulls)):\n",
    "            if column == 'Country_Region':\n",
    "                nc = aug_data['Country_Region'].index[i][0]\n",
    "                nan_countries.append(nc)\n",
    "            if column == 'first_7':\n",
    "                nc = aug_data['first_7'].index[i][0]\n",
    "                nan_first_7.append(nc)\n",
    "# hopkins_confirmed.drop(nan_first_7, level=0, inplace=True) # This was removed because it was buggy. the dropna is better and robust\n",
    "aug_data['Province_State'] = aug_data['Province_State'].fillna('')\n",
    "aug_data.dropna(inplace=True)"
   ]
  },
  {
   "cell_type": "code",
   "execution_count": 163,
   "metadata": {},
   "outputs": [
    {
     "data": {
      "text/plain": [
       "Index(['Province_State', 'Country_Region', 'GDP', 'Urbanization', 'Median Age',\n",
       "       'Democracy', 'State Population', 'Total Tests', 'Tests \\ Pop',\n",
       "       'avg_m_tmp',\n",
       "       ...\n",
       "       '3/29/2020', '3/30/2020', '3/31/2020', '4/1/2020', '4/2/2020',\n",
       "       '4/3/2020', '4/4/2020', '4/5/2020', '4/6/2020', '4/7/2020'],\n",
       "      dtype='object', length=103)"
      ]
     },
     "execution_count": 163,
     "metadata": {},
     "output_type": "execute_result"
    }
   ],
   "source": [
    "aug_data.columns"
   ]
  },
  {
   "cell_type": "code",
   "execution_count": 162,
   "metadata": {},
   "outputs": [],
   "source": [
    "aug_data.to_pickle(RESULT_PATH)"
   ]
  }
 ],
 "metadata": {
  "kernelspec": {
   "display_name": "Python 3",
   "language": "python",
   "name": "python3"
  },
  "language_info": {
   "codemirror_mode": {
    "name": "ipython",
    "version": 3
   },
   "file_extension": ".py",
   "mimetype": "text/x-python",
   "name": "python",
   "nbconvert_exporter": "python",
   "pygments_lexer": "ipython3",
   "version": "3.7.0"
  }
 },
 "nbformat": 4,
 "nbformat_minor": 2
}
