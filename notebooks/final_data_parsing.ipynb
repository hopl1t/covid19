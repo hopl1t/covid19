{
 "cells": [
  {
   "cell_type": "code",
   "execution_count": 9,
   "metadata": {},
   "outputs": [],
   "source": [
    "import urllib\n",
    "import json\n",
    "import pandas as pd\n",
    "import numpy as np\n",
    "import warnings\n",
    "import pickle\n",
    "from datetime import datetime\n",
    "from datetime import timedelta\n",
    "from urllib.error import URLError\n",
    "from functools import wraps\n",
    "from keys import client_id, client_secret, app_id\n",
    "warnings.filterwarnings('ignore')"
   ]
  },
  {
   "cell_type": "code",
   "execution_count": 10,
   "metadata": {},
   "outputs": [],
   "source": [
    "DEATH_PATH = '../augmented_datasets/pickles/hopkins_death_withgr_augmented0605.pkl'\n",
    "CONF_PATH = '../augmented_datasets/pickles/hopkins_conf_withgr_augmented0605_withsocietal.pkl'\n",
    "COLS = ['GDP', 'Urbanization', 'Median Age',\\\n",
    "        'Democracy', 'Gini Index', 'State Population',\\\n",
    "        'Total Tests', 'Tests \\\\ Pop', 'avg_mobility', 'Tests per 1M']"
   ]
  },
  {
   "cell_type": "code",
   "execution_count": 11,
   "metadata": {},
   "outputs": [],
   "source": [
    "def add_index(df, row_name, gap=5):\n",
    "    \"\"\"\n",
    "    Adds a row on level 1 of a df\n",
    "    \"\"\"\n",
    "    idx = df.index\n",
    "    previous_coor = (0,0)\n",
    "    i = gap\n",
    "    for coor, data in df.iterrows():\n",
    "        coor = coor[0]\n",
    "        if coor != previous_coor:\n",
    "            idx = idx.insert(i, (coor, row_name))\n",
    "            i += (gap + 1)\n",
    "            previous_coor = coor\n",
    "    return df.copy().reindex(idx)"
   ]
  },
  {
   "cell_type": "code",
   "execution_count": 12,
   "metadata": {},
   "outputs": [],
   "source": [
    "hopkins_death = pd.read_pickle(DEATH_PATH)\n",
    "hopkins_conf = pd.read_pickle(CONF_PATH)"
   ]
  },
  {
   "cell_type": "code",
   "execution_count": 13,
   "metadata": {},
   "outputs": [],
   "source": [
    "hopkins_death = add_index(hopkins_death, 'd_mob_change')\n",
    "hopkins_conf.insert(11, 'avg_mobility', np.nan)\n",
    "for col in COLS[::-1]:\n",
    "    hopkins_death.insert(2, col, np.nan)"
   ]
  },
  {
   "cell_type": "markdown",
   "metadata": {},
   "source": [
    "###### Merge with data from confirmed"
   ]
  },
  {
   "cell_type": "code",
   "execution_count": 14,
   "metadata": {},
   "outputs": [
    {
     "data": {
      "text/plain": [
       "1837"
      ]
     },
     "execution_count": 14,
     "metadata": {},
     "output_type": "execute_result"
    },
    {
     "data": {
      "text/plain": [
       "1254"
      ]
     },
     "execution_count": 14,
     "metadata": {},
     "output_type": "execute_result"
    },
    {
     "data": {
      "text/plain": [
       "0"
      ]
     },
     "execution_count": 14,
     "metadata": {},
     "output_type": "execute_result"
    }
   ],
   "source": [
    "conf_indexs = []\n",
    "death_indexs = []\n",
    "for row in hopkins_conf.iterrows():\n",
    "    conf_indexs.append(row[0][0])\n",
    "for row in hopkins_death.iterrows():\n",
    "    death_indexs.append(row[0][0])\n",
    "\n",
    "len(set(conf_indexs))\n",
    "len(set(death_indexs))\n",
    "\n",
    "conf_ind =  set(conf_indexs)\n",
    "death_ind = set(death_indexs)\n",
    "to_drop = [ind for ind in death_ind if ind not in conf_ind]\n",
    "len(to_drop)\n",
    "# hopkins_death.drop(index=to_drop, level=0, inplace=True)\n",
    "\n",
    "coords = []\n",
    "for row in hopkins_death.iterrows():\n",
    "    coords.append(row[0][0])\n",
    "coords = list(set(coords))\n"
   ]
  },
  {
   "cell_type": "code",
   "execution_count": 15,
   "metadata": {},
   "outputs": [],
   "source": [
    "hopkins_death.insert(12, 'avg_interval_tmp', np.nan)\n",
    "hopkins_death.insert(12, 'avg_interval_RH', np.nan)\n",
    "hopkins_conf.insert(12, 'avg_interval_tmp', np.nan)\n",
    "hopkins_conf.insert(12, 'avg_interval_RH', np.nan)"
   ]
  },
  {
   "cell_type": "code",
   "execution_count": 16,
   "metadata": {},
   "outputs": [],
   "source": [
    "days = hopkins_conf.columns.tolist()[34:]\n",
    "hopkins_conf['Tests per 1M'] = hopkins_conf['Tests per 1M'].iloc[:].str.replace(',', '').astype(float)\n",
    "hopkins_conf['Democracy'] = hopkins_conf['Democracy'].iloc[:].str.replace(',', '').astype(float)"
   ]
  },
  {
   "cell_type": "code",
   "execution_count": 17,
   "metadata": {},
   "outputs": [],
   "source": [
    "hopkins_death = pd.read_pickle('../augmented_datasets/pickles/death_data_gr_fix_0605.pkl')"
   ]
  },
  {
   "cell_type": "markdown",
   "metadata": {},
   "source": [
    "###### this is a patch to get a new df with gf for death cases > 2 rather then 20"
   ]
  },
  {
   "cell_type": "code",
   "execution_count": 18,
   "metadata": {},
   "outputs": [],
   "source": [
    "for coord in coords:\n",
    "    for col in COLS:\n",
    "        hopkins_death.loc[coord, col]['data'] = hopkins_conf.loc[coord, col]['data']\n",
    "    for day in days:\n",
    "        hopkins_death.loc[coord, day]['d_mob_change'] = hopkins_conf.loc[coord, day]['d_mob_change']"
   ]
  },
  {
   "cell_type": "markdown",
   "metadata": {},
   "source": [
    "###### Calculate avg interval temp and mobility for both datasets"
   ]
  },
  {
   "cell_type": "code",
   "execution_count": 19,
   "metadata": {},
   "outputs": [],
   "source": [
    "coords = set(hopkins_conf.index.get_level_values(0).tolist())\n",
    "for coord in coords:\n",
    "    try:\n",
    "        last_rel_date = hopkins_conf.loc[coord]['last relevant date']['data']\n",
    "        five_prcnt_date = hopkins_conf.loc[coord]['5%_Date']['data']\n",
    "\n",
    "        five_prct_column = hopkins_conf.columns.get_loc(five_prcnt_date)\n",
    "        last_rel_column = hopkins_conf.columns.get_loc(last_rel_date)\n",
    "        interval = hopkins_conf[hopkins_conf.columns[five_prct_column:last_rel_column]]\n",
    "\n",
    "        hopkins_conf.loc[coord, 'avg_interval_tmp']['data'] = interval.loc[coord].loc['avg_d_tmp'].mean()\n",
    "        hopkins_conf.loc[coord, 'avg_interval_RH']['data'] = interval.loc[coord].loc['avg_d_RH'].mean()\n",
    "        hopkins_conf.loc[coord, 'avg_mobility']['data'] = interval.loc[coord].loc['d_mob_change'].mean()\n",
    "    except KeyError as e:\n",
    "#         raise e\n",
    "        print('key error, {0}'.format(coord))\n",
    "\n",
    "coords = set(hopkins_death.index.get_level_values(0).tolist())\n",
    "for coord in coords:\n",
    "    try:\n",
    "        last_rel_date = hopkins_death.loc[coord]['last relevant date']['data']\n",
    "        five_prcnt_date = hopkins_death.loc[coord]['5%_Date']['data']\n",
    "\n",
    "        five_prct_column = hopkins_death.columns.get_loc(five_prcnt_date)\n",
    "        last_rel_column = hopkins_death.columns.get_loc(last_rel_date)\n",
    "        interval = hopkins_death[hopkins_death.columns[five_prct_column:last_rel_column]]\n",
    "\n",
    "        hopkins_death.loc[coord, 'avg_interval_tmp']['data'] = interval.loc[coord].loc['avg_d_tmp'].mean()\n",
    "        hopkins_death.loc[coord, 'avg_interval_RH']['data'] = interval.loc[coord].loc['avg_d_RH'].mean()\n",
    "        hopkins_death.loc[coord, 'avg_mobility']['data'] = interval.loc[coord].loc['d_mob_change'].mean()\n",
    "    except KeyError as e:\n",
    "        raise e\n",
    "#         print('key error, {0}'.format(coord))"
   ]
  },
  {
   "cell_type": "markdown",
   "metadata": {},
   "source": [
    "###### fill place with no mobility data with mean"
   ]
  },
  {
   "cell_type": "code",
   "execution_count": 87,
   "metadata": {},
   "outputs": [
    {
     "data": {
      "text/plain": [
       "0"
      ]
     },
     "execution_count": 87,
     "metadata": {},
     "output_type": "execute_result"
    },
    {
     "data": {
      "text/plain": [
       "0"
      ]
     },
     "execution_count": 87,
     "metadata": {},
     "output_type": "execute_result"
    }
   ],
   "source": [
    "# amount of lications with no google movment data\n",
    "len([loc for loc in np.isnan(hopkins_conf['avg_mobility'][::7]) if loc])\n",
    "hopkins_conf['avg_mobility'].fillna(hopkins_conf['avg_mobility'].mean(), inplace=True)\n",
    "hopkins_conf['avg_mobility'][::7].fillna(hopkins_conf['avg_mobility'][::7].mean(), inplace=True)\n",
    "len([loc for loc in np.isnan(hopkins_conf['avg_mobility'][::7]) if loc])"
   ]
  },
  {
   "cell_type": "code",
   "execution_count": 21,
   "metadata": {},
   "outputs": [],
   "source": [
    "conf_bkp = hopkins_conf.copy()\n",
    "death_bkp = hopkins_death.copy()"
   ]
  },
  {
   "cell_type": "code",
   "execution_count": 94,
   "metadata": {},
   "outputs": [],
   "source": [
    "hopkins_conf['Democracy'] = hopkins_conf['Democracy'].iloc[:].str.replace(',', '').astype(float)\n",
    "hopkins_death['avg_mobility'][::7].fillna(hopkins_death['avg_mobility'][::7].mean(), inplace=True)"
   ]
  },
  {
   "cell_type": "markdown",
   "metadata": {},
   "source": [
    "###### Save the full dataset - along with daily data"
   ]
  },
  {
   "cell_type": "code",
   "execution_count": 95,
   "metadata": {},
   "outputs": [],
   "source": [
    "hopkins_conf.to_pickle('../augmented_datasets/pickles/final_data/hopkins_conf_full_0605.pkl')\n",
    "hopkins_death.to_pickle('../augmented_datasets/pickles/final_data/hopkins_death_full_0605.pkl')"
   ]
  },
  {
   "cell_type": "markdown",
   "metadata": {},
   "source": [
    "###### Create narrow dataset and handle nans\n",
    "We remove the first_7 nans and some other fields, and fill means in the others"
   ]
  },
  {
   "cell_type": "code",
   "execution_count": 96,
   "metadata": {},
   "outputs": [],
   "source": [
    "hopkins_conf['Province_State'] = hopkins_conf['Province_State'].fillna('')\n",
    "hopkins_death['Province_State'] = hopkins_death['Province_State'].fillna('')\n",
    "narrow_conf = hopkins_conf.iloc[::7]\n",
    "narrow_death = hopkins_death.iloc[::6]"
   ]
  },
  {
   "cell_type": "markdown",
   "metadata": {},
   "source": [
    "Conf data"
   ]
  },
  {
   "cell_type": "code",
   "execution_count": 99,
   "metadata": {},
   "outputs": [
    {
     "name": "stdout",
     "output_type": "stream",
     "text": [
      "Democracy: True, 13\n",
      "State Population: True, 225\n",
      "Total Tests: True, 225\n",
      "Tests \\ Pop: True, 225\n"
     ]
    }
   ],
   "source": [
    "for column in narrow_conf.columns:\n",
    "    any_nan = narrow_conf[column].loc[:, 'data'].isna().any()\n",
    "    nulls = hopkins_conf[column].loc[:, 'data'].isna().tolist()\n",
    "    if any_nan:\n",
    "        size = len([nul for nul in nulls if nul])\n",
    "        print('{0}: {1}, {2}'.format(column, any_nan, size))"
   ]
  },
  {
   "cell_type": "code",
   "execution_count": 98,
   "metadata": {},
   "outputs": [],
   "source": [
    "narrow_conf['Gini Index'].fillna(narrow_conf['Gini Index'].mean(), inplace=True)\n",
    "narrow_conf['Tests per 1M'].fillna(narrow_conf['Tests per 1M'].mean(), inplace=True)\n",
    "\n",
    "narrow_conf['first_7'].dropna(inplace=True)\n",
    "narrow_conf['GDP'].dropna(inplace=True)\n",
    "narrow_conf['Urbanization'].dropna(inplace=True)"
   ]
  },
  {
   "cell_type": "markdown",
   "metadata": {},
   "source": [
    "Death data"
   ]
  },
  {
   "cell_type": "code",
   "execution_count": 105,
   "metadata": {},
   "outputs": [
    {
     "name": "stdout",
     "output_type": "stream",
     "text": [
      "State Population: True, 192\n",
      "Total Tests: True, 192\n",
      "Tests \\ Pop: True, 192\n"
     ]
    }
   ],
   "source": [
    "for column in narrow_death.columns:\n",
    "    any_nan = narrow_death[column].loc[:, 'data'].isna().any()\n",
    "    nulls = narrow_death[column].loc[:, 'data'].isna().tolist()\n",
    "    if any_nan:\n",
    "        size = len([nul for nul in nulls if nul])\n",
    "        print('{0}: {1}, {2}'.format(column, any_nan, size))"
   ]
  },
  {
   "cell_type": "code",
   "execution_count": 101,
   "metadata": {},
   "outputs": [],
   "source": [
    "narrow_death['Gini Index'].fillna(narrow_conf['Gini Index'].mean(), inplace=True)\n",
    "narrow_death['Tests per 1M'].fillna(narrow_conf['Tests per 1M'].mean(), inplace=True)\n",
    "\n",
    "narrow_death['first_7'].dropna(inplace=True)\n",
    "narrow_death['avg_interval_RH'].dropna(inplace=True)\n",
    "narrow_death['avg_interval_tmp'].dropna(inplace=True)\n",
    "narrow_death['avg_mobility'].dropna(inplace=True)\n",
    "narrow_death['GDP'].dropna(inplace=True)\n",
    "narrow_death['Urbanization'].dropna(inplace=True)"
   ]
  },
  {
   "cell_type": "markdown",
   "metadata": {},
   "source": [
    "###### Sanity checks"
   ]
  },
  {
   "cell_type": "code",
   "execution_count": 103,
   "metadata": {},
   "outputs": [
    {
     "data": {
      "text/plain": [
       "coordinate    information\n",
       "(31.0, 35.0)  data           18.928125\n",
       "Name: avg_interval_tmp, dtype: float64"
      ]
     },
     "execution_count": 103,
     "metadata": {},
     "output_type": "execute_result"
    },
    {
     "data": {
      "text/plain": [
       "1254"
      ]
     },
     "execution_count": 103,
     "metadata": {},
     "output_type": "execute_result"
    }
   ],
   "source": [
    "narrow_conf[narrow_conf['Country_Region'] == 'Israel']['avg_interval_tmp']\n",
    "len(narrow_death)"
   ]
  },
  {
   "cell_type": "markdown",
   "metadata": {},
   "source": [
    "###### Save augmented data\n",
    "1. Multi index does not save well in csv, so we also save it as a pickle"
   ]
  },
  {
   "cell_type": "code",
   "execution_count": 104,
   "metadata": {},
   "outputs": [],
   "source": [
    "narrow_conf.to_pickle('../augmented_datasets/pickles/final_data/hopkins_conf_narrow_0605.pkl')\n",
    "narrow_death.to_pickle('../augmented_datasets/pickles/final_data/hopkins_death_narrow_0605.pkl')"
   ]
  }
 ],
 "metadata": {
  "kernelspec": {
   "display_name": "Python 3",
   "language": "python",
   "name": "python3"
  },
  "language_info": {
   "codemirror_mode": {
    "name": "ipython",
    "version": 3
   },
   "file_extension": ".py",
   "mimetype": "text/x-python",
   "name": "python",
   "nbconvert_exporter": "python",
   "pygments_lexer": "ipython3",
   "version": "3.7.0"
  }
 },
 "nbformat": 4,
 "nbformat_minor": 2
}
