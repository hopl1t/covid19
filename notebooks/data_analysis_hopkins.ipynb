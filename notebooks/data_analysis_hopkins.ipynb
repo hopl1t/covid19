{
 "cells": [
  {
   "cell_type": "code",
   "execution_count": 5,
   "metadata": {},
   "outputs": [],
   "source": [
    "import pickle\n",
    "import random\n",
    "import math\n",
    "import warnings\n",
    "import pandas as pd\n",
    "import numpy as np\n",
    "import seaborn as sns\n",
    "import matplotlib.pyplot as plt\n",
    "from scipy import stats\n",
    "#from sklearn.mixture import GMM\n",
    "from sklearn.mixture import GaussianMixture\n",
    "from sklearn.datasets import load_boston\n",
    "from datetime import datetime\n",
    "from datetime import timedelta\n",
    "%matplotlib inline\n",
    "# plt.matplotlib.rcParams.update({'font.size': 50})\n",
    "warnings.filterwarnings('ignore')\n",
    "plt.rcParams['figure.figsize'] = (12.0, 8.0) # set default size of plots\n",
    "plt.rcParams['image.interpolation'] = 'nearest'\n",
    "plt.rcParams['image.cmap'] = 'gray'   \n",
    "plt.rcParams[\"patch.force_edgecolor\"] = False\n",
    "plt.rc('figure', titlesize=25)"
   ]
  },
  {
   "cell_type": "code",
   "execution_count": 8,
   "metadata": {},
   "outputs": [],
   "source": [
    "PICKLE_PATH = '../augmented_datasets/hopkins_conf_gf0304.pkl'"
   ]
  },
  {
   "cell_type": "code",
   "execution_count": 10,
   "metadata": {},
   "outputs": [],
   "source": [
    "hopkins_confirmed = pd.DataFrame()\n",
    "\n",
    "with open(PICKLE_PATH, 'rb') as file:\n",
    "    hopkins_confirmed = pickle.load(file)"
   ]
  },
  {
   "cell_type": "markdown",
   "metadata": {},
   "source": [
    "###### CORRELATIONS AND SCATTER PLOTS PER GF"
   ]
  },
  {
   "cell_type": "code",
   "execution_count": 52,
   "metadata": {},
   "outputs": [
    {
     "name": "stdout",
     "output_type": "stream",
     "text": [
      "\n",
      "Inetrval temp correaltion Pearson\n",
      "GF_Q3              0.068834\n",
      "first_7            0.010164\n",
      "avg_interval_RH   -0.024265\n",
      "GF_Q2             -0.036255\n",
      "GF_Q1             -0.093777\n",
      "dtype: float64\n",
      "\n",
      "Inetrval temp correaltion Spearman\n",
      "GF_Q3              0.202097\n",
      "avg_interval_RH    0.071944\n",
      "GF_Q2              0.057840\n",
      "GF_Q1             -0.062317\n",
      "first_7           -0.084797\n",
      "dtype: float64\n"
     ]
    },
    {
     "data": {
      "image/png": "[encoded data removed]",
      "text/plain": [
       "<Figure size 1080x504 with 1 Axes>"
      ]
     },
     "metadata": {
      "needs_background": "light"
     },
     "output_type": "display_data"
    }
   ],
   "source": [
    "TMP_RATE = 1\n",
    "RH_RATE = 1\n",
    "\n",
    "confs = hopkins_confirmed[['avg_interval_tmp', 'avg_interval_RH', 'GF_Q1', 'GF_Q2', 'GF_Q3', 'first_7']]\n",
    "confs['avg_interval_tmp'] = confs['avg_interval_tmp'] * TMP_RATE\n",
    "confs['avg_interval_RH'] = confs['avg_interval_RH'] * RH_RATE\n",
    "\n",
    "conf_corrs_p = confs.corr().unstack().sort_values(kind=\"quicksort\", ascending=False)\n",
    "conf_corrs_p = conf_corrs_p[conf_corrs_p != 1]\n",
    "_ = conf_corrs_p.drop_duplicates()\n",
    "print('\\nInetrval temp correaltion Pearson')\n",
    "print(conf_corrs_p['avg_interval_tmp'])\n",
    "\n",
    "conf_corrs_s = confs.corr('spearman').unstack().sort_values(kind=\"quicksort\", ascending=False)\n",
    "conf_corrs_s = conf_corrs_s[conf_corrs_s != 1]\n",
    "_ = conf_corrs_s.drop_duplicates()\n",
    "print('\\nInetrval temp correaltion Spearman')\n",
    "print(conf_corrs_s['avg_interval_tmp'])\n",
    "\n",
    "gf_q1 = confs['GF_Q1'].loc[:,'data'].values.tolist()\n",
    "avg_int_tmp = confs['avg_interval_tmp'].loc[:,'data'].values.tolist()\n",
    "\n",
    "fig, axes = plt.subplots(figsize=(15, 7))\n",
    "_ = axes.scatter(avg_int_tmp, gf_q1)\n",
    "n = len(confs)\n",
    "\n",
    "_ = axes.set_xlabel('avg interval temp')\n",
    "_ = axes.set_ylabel('Q1 GF')\n",
    "_ = axes.set_title('n={0}'.format(n))\n"
   ]
  },
  {
   "cell_type": "markdown",
   "metadata": {},
   "source": [
    "Significant correlations with p-values:"
   ]
  },
  {
   "cell_type": "code",
   "execution_count": 48,
   "metadata": {},
   "outputs": [
    {
     "name": "stdout",
     "output_type": "stream",
     "text": [
      "GF_Q1 vs avg_interval_tmp correaltion Pearson: -0.09377678897286003, p-value: 0.21180717334673405\n",
      "GF_Q1 vs avg_interval_tmp correaltion Spearman: -0.062317471034286705, p-value: 0.4072652937748975\n"
     ]
    }
   ],
   "source": [
    "corr_ = stats.pearsonr(gf_q1, avg_int_tmp)\n",
    "print('GF_Q1 vs avg_interval_tmp correaltion Pearson: {0}, p-value: {1}'.format(corr_[0], corr_[1]))\n",
    "\n",
    "corr_ = stats.spearmanr(gf_q1, avg_int_tmp)\n",
    "print('GF_Q1 vs avg_interval_tmp correaltion Spearman: {0}, p-value: {1}'.format(corr_[0], corr_[1]))\n"
   ]
  },
  {
   "cell_type": "markdown",
   "metadata": {},
   "source": [
    "###### Non perfect correlations between max_cases and cases result from instances where the amount of cases on the 23.3 was smaller then the maximal, as shown on the next block"
   ]
  },
  {
   "cell_type": "code",
   "execution_count": null,
   "metadata": {},
   "outputs": [],
   "source": [
    "test = confs.drop(confs[confs['Cases'] < confs['max_cases']].index)\n",
    "test_corrs = test.corr().unstack().sort_values(kind=\"quicksort\", ascending=False)\n",
    "# test_corrs = test_corrs[test_corrs != 1]\n",
    "_ = test_corrs.drop_duplicates()\n",
    "print('\\nDeath cases max_cases correaltion Pearson')\n",
    "print(test_corrs['max_cases'])"
   ]
  },
  {
   "cell_type": "markdown",
   "metadata": {},
   "source": [
    "###### Correlations of case studies"
   ]
  },
  {
   "cell_type": "code",
   "execution_count": 95,
   "metadata": {},
   "outputs": [
    {
     "name": "stdout",
     "output_type": "stream",
     "text": [
      "\n",
      "Inetrval temp correaltion Pearson\n",
      "avg_interval_RH   -0.208770\n",
      "GF_Q1             -0.262923\n",
      "GF_Q2             -0.332719\n",
      "GF_Q3             -0.400897\n",
      "first_7           -0.479016\n",
      "dtype: float64\n",
      "\n",
      "Inetrval temp correaltion Spearman\n",
      "avg_interval_RH   -0.124615\n",
      "GF_Q1             -0.175338\n",
      "GF_Q2             -0.297692\n",
      "GF_Q3             -0.403846\n",
      "first_7           -0.569565\n",
      "dtype: float64\n"
     ]
    },
    {
     "data": {
      "image/png": "[encoded data removed]",
      "text/plain": [
       "<Figure size 1080x504 with 1 Axes>"
      ]
     },
     "metadata": {
      "needs_background": "light"
     },
     "output_type": "display_data"
    }
   ],
   "source": [
    "cold = ['Sweden', 'Norway', 'Canada', 'Ireland', 'Denmark']\n",
    "hot = ['Australia', 'Taiwan*', 'Singapore', 'Qatar', 'Bahrain']\n",
    "\n",
    "confs = hopkins_confirmed[hopkins_confirmed['Country_Region'].isin(hot + cold)]\\\n",
    "        [['avg_interval_tmp', 'avg_interval_RH', 'GF_Q1', 'GF_Q2', 'GF_Q3', 'first_7']]\n",
    "\n",
    "\n",
    "conf_corrs_p = confs.corr().unstack().sort_values(kind=\"quicksort\", ascending=False)\n",
    "conf_corrs_p = conf_corrs_p[conf_corrs_p != 1]\n",
    "_ = conf_corrs_p.drop_duplicates()\n",
    "print('\\nInetrval temp correaltion Pearson')\n",
    "print(conf_corrs_p['avg_interval_tmp'])\n",
    "\n",
    "conf_corrs_s = confs.corr('spearman').unstack().sort_values(kind=\"quicksort\", ascending=False)\n",
    "conf_corrs_s = conf_corrs_s[conf_corrs_s != 1]\n",
    "_ = conf_corrs_s.drop_duplicates()\n",
    "print('\\nInetrval temp correaltion Spearman')\n",
    "print(conf_corrs_s['avg_interval_tmp'])\n",
    "\n",
    "gf_q3 = confs['GF_Q3'].loc[:,'data'].values.tolist()\n",
    "avg_int_tmp = confs['avg_interval_tmp'].loc[:,'data'].values.tolist()\n",
    "\n",
    "fig, axes = plt.subplots(figsize=(15, 7))\n",
    "_ = axes.scatter(avg_int_tmp, first_7)\n",
    "n = len(confs)\n",
    "\n",
    "_ = axes.set_xlabel('avg interval temp')\n",
    "_ = axes.set_ylabel('first_7')\n",
    "_ = axes.set_title('n={0}'.format(n))\n"
   ]
  },
  {
   "cell_type": "code",
   "execution_count": 96,
   "metadata": {},
   "outputs": [
    {
     "name": "stdout",
     "output_type": "stream",
     "text": [
      "GF_Q1 vs avg_interval_tmp correaltion Pearson: -0.40089749281709874, p-value: 0.04702587670853756\n",
      "GF_Q1 vs avg_interval_tmp correaltion Spearman: -0.4038461538461539, p-value: 0.04527880876838549\n"
     ]
    }
   ],
   "source": [
    "corr_ = stats.pearsonr(gf_q3, avg_int_tmp)\n",
    "print('GF_Q1 vs avg_interval_tmp correaltion Pearson: {0}, p-value: {1}'.format(corr_[0], corr_[1]))\n",
    "\n",
    "corr_ = stats.spearmanr(gf_q3, avg_int_tmp)\n",
    "print('GF_Q1 vs avg_interval_tmp correaltion Spearman: {0}, p-value: {1}'.format(corr_[0], corr_[1]))\n"
   ]
  },
  {
   "cell_type": "markdown",
   "metadata": {},
   "source": [
    "###### Correlations with GDP and Urbanisation normalization"
   ]
  },
  {
   "cell_type": "code",
   "execution_count": null,
   "metadata": {},
   "outputs": [],
   "source": []
  },
  {
   "cell_type": "markdown",
   "metadata": {},
   "source": [
    "###### Rank sum\n",
    "We regard two groups - 'cold' and 'hot' groups.\n",
    "Each group's score is it's Q3 infection rate.\n",
    "We will perform a Wilcoxon rank test and get a p-value for this arrangment"
   ]
  },
  {
   "cell_type": "code",
   "execution_count": 97,
   "metadata": {},
   "outputs": [
    {
     "data": {
      "text/html": [
       "<div>\n",
       "<style scoped>\n",
       "    .dataframe tbody tr th:only-of-type {\n",
       "        vertical-align: middle;\n",
       "    }\n",
       "\n",
       "    .dataframe tbody tr th {\n",
       "        vertical-align: top;\n",
       "    }\n",
       "\n",
       "    .dataframe thead th {\n",
       "        text-align: right;\n",
       "    }\n",
       "</style>\n",
       "<table border=\"1\" class=\"dataframe\">\n",
       "  <thead>\n",
       "    <tr style=\"text-align: right;\">\n",
       "      <th></th>\n",
       "      <th></th>\n",
       "      <th>Country_Region</th>\n",
       "      <th>avg_interval_tmp</th>\n",
       "      <th>GF_Q3</th>\n",
       "    </tr>\n",
       "    <tr>\n",
       "      <th>coordinate</th>\n",
       "      <th>information</th>\n",
       "      <th></th>\n",
       "      <th></th>\n",
       "      <th></th>\n",
       "    </tr>\n",
       "  </thead>\n",
       "  <tbody>\n",
       "    <tr>\n",
       "      <th>(44.681999999999995, -63.7443)</th>\n",
       "      <th>data</th>\n",
       "      <td>Canada</td>\n",
       "      <td>-0.436364</td>\n",
       "      <td>0.416075</td>\n",
       "    </tr>\n",
       "    <tr>\n",
       "      <th>(46.5653, -66.4619)</th>\n",
       "      <th>data</th>\n",
       "      <td>Canada</td>\n",
       "      <td>-1.481818</td>\n",
       "      <td>0.417625</td>\n",
       "    </tr>\n",
       "    <tr>\n",
       "      <th>(49.2827, -123.1207)</th>\n",
       "      <th>data</th>\n",
       "      <td>Canada</td>\n",
       "      <td>5.400000</td>\n",
       "      <td>0.307200</td>\n",
       "    </tr>\n",
       "    <tr>\n",
       "      <th>(51.2538, -85.3232)</th>\n",
       "      <th>data</th>\n",
       "      <td>Canada</td>\n",
       "      <td>-8.528571</td>\n",
       "      <td>0.235550</td>\n",
       "    </tr>\n",
       "    <tr>\n",
       "      <th>(52.9399, -106.4509)</th>\n",
       "      <th>data</th>\n",
       "      <td>Canada</td>\n",
       "      <td>-10.390909</td>\n",
       "      <td>0.489550</td>\n",
       "    </tr>\n",
       "    <tr>\n",
       "      <th>(52.9399, -73.5491)</th>\n",
       "      <th>data</th>\n",
       "      <td>Canada</td>\n",
       "      <td>-11.862500</td>\n",
       "      <td>0.324800</td>\n",
       "    </tr>\n",
       "    <tr>\n",
       "      <th>(53.1355, -57.6604)</th>\n",
       "      <th>data</th>\n",
       "      <td>Canada</td>\n",
       "      <td>-5.900000</td>\n",
       "      <td>0.921450</td>\n",
       "    </tr>\n",
       "    <tr>\n",
       "      <th>(53.1424, -7.6921)</th>\n",
       "      <th>data</th>\n",
       "      <td>Ireland</td>\n",
       "      <td>7.553846</td>\n",
       "      <td>0.309925</td>\n",
       "    </tr>\n",
       "    <tr>\n",
       "      <th>(53.7609, -98.8139)</th>\n",
       "      <th>data</th>\n",
       "      <td>Canada</td>\n",
       "      <td>-13.692857</td>\n",
       "      <td>0.404800</td>\n",
       "    </tr>\n",
       "    <tr>\n",
       "      <th>(53.9333, -116.5765)</th>\n",
       "      <th>data</th>\n",
       "      <td>Canada</td>\n",
       "      <td>-7.950000</td>\n",
       "      <td>0.340200</td>\n",
       "    </tr>\n",
       "    <tr>\n",
       "      <th>(56.2639, 9.5018)</th>\n",
       "      <th>data</th>\n",
       "      <td>Denmark</td>\n",
       "      <td>5.329412</td>\n",
       "      <td>0.095500</td>\n",
       "    </tr>\n",
       "    <tr>\n",
       "      <th>(60.472, 8.4689)</th>\n",
       "      <th>data</th>\n",
       "      <td>Norway</td>\n",
       "      <td>0.694444</td>\n",
       "      <td>0.145650</td>\n",
       "    </tr>\n",
       "    <tr>\n",
       "      <th>(61.8926, -6.9118)</th>\n",
       "      <th>data</th>\n",
       "      <td>Denmark</td>\n",
       "      <td>4.530769</td>\n",
       "      <td>0.247850</td>\n",
       "    </tr>\n",
       "    <tr>\n",
       "      <th>(63.0, 16.0)</th>\n",
       "      <th>data</th>\n",
       "      <td>Sweden</td>\n",
       "      <td>-0.190000</td>\n",
       "      <td>0.221700</td>\n",
       "    </tr>\n",
       "  </tbody>\n",
       "</table>\n",
       "</div>"
      ],
      "text/plain": [
       "                                           Country_Region  avg_interval_tmp  \\\n",
       "coordinate                     information                                    \n",
       "(44.681999999999995, -63.7443) data                Canada         -0.436364   \n",
       "(46.5653, -66.4619)            data                Canada         -1.481818   \n",
       "(49.2827, -123.1207)           data                Canada          5.400000   \n",
       "(51.2538, -85.3232)            data                Canada         -8.528571   \n",
       "(52.9399, -106.4509)           data                Canada        -10.390909   \n",
       "(52.9399, -73.5491)            data                Canada        -11.862500   \n",
       "(53.1355, -57.6604)            data                Canada         -5.900000   \n",
       "(53.1424, -7.6921)             data               Ireland          7.553846   \n",
       "(53.7609, -98.8139)            data                Canada        -13.692857   \n",
       "(53.9333, -116.5765)           data                Canada         -7.950000   \n",
       "(56.2639, 9.5018)              data               Denmark          5.329412   \n",
       "(60.472, 8.4689)               data                Norway          0.694444   \n",
       "(61.8926, -6.9118)             data               Denmark          4.530769   \n",
       "(63.0, 16.0)                   data                Sweden         -0.190000   \n",
       "\n",
       "                                               GF_Q3  \n",
       "coordinate                     information            \n",
       "(44.681999999999995, -63.7443) data         0.416075  \n",
       "(46.5653, -66.4619)            data         0.417625  \n",
       "(49.2827, -123.1207)           data         0.307200  \n",
       "(51.2538, -85.3232)            data         0.235550  \n",
       "(52.9399, -106.4509)           data         0.489550  \n",
       "(52.9399, -73.5491)            data         0.324800  \n",
       "(53.1355, -57.6604)            data         0.921450  \n",
       "(53.1424, -7.6921)             data         0.309925  \n",
       "(53.7609, -98.8139)            data         0.404800  \n",
       "(53.9333, -116.5765)           data         0.340200  \n",
       "(56.2639, 9.5018)              data         0.095500  \n",
       "(60.472, 8.4689)               data         0.145650  \n",
       "(61.8926, -6.9118)             data         0.247850  \n",
       "(63.0, 16.0)                   data         0.221700  "
      ]
     },
     "execution_count": 97,
     "metadata": {},
     "output_type": "execute_result"
    },
    {
     "data": {
      "text/html": [
       "<div>\n",
       "<style scoped>\n",
       "    .dataframe tbody tr th:only-of-type {\n",
       "        vertical-align: middle;\n",
       "    }\n",
       "\n",
       "    .dataframe tbody tr th {\n",
       "        vertical-align: top;\n",
       "    }\n",
       "\n",
       "    .dataframe thead th {\n",
       "        text-align: right;\n",
       "    }\n",
       "</style>\n",
       "<table border=\"1\" class=\"dataframe\">\n",
       "  <thead>\n",
       "    <tr style=\"text-align: right;\">\n",
       "      <th></th>\n",
       "      <th></th>\n",
       "      <th>Country_Region</th>\n",
       "      <th>avg_interval_tmp</th>\n",
       "      <th>GF_Q3</th>\n",
       "    </tr>\n",
       "    <tr>\n",
       "      <th>coordinate</th>\n",
       "      <th>information</th>\n",
       "      <th></th>\n",
       "      <th></th>\n",
       "      <th></th>\n",
       "    </tr>\n",
       "  </thead>\n",
       "  <tbody>\n",
       "    <tr>\n",
       "      <th>(-41.4545, 145.9707)</th>\n",
       "      <th>data</th>\n",
       "      <td>Australia</td>\n",
       "      <td>13.687500</td>\n",
       "      <td>0.375000</td>\n",
       "    </tr>\n",
       "    <tr>\n",
       "      <th>(-37.8136, 144.9631)</th>\n",
       "      <th>data</th>\n",
       "      <td>Australia</td>\n",
       "      <td>17.128571</td>\n",
       "      <td>0.342500</td>\n",
       "    </tr>\n",
       "    <tr>\n",
       "      <th>(-35.4735, 149.0124)</th>\n",
       "      <th>data</th>\n",
       "      <td>Australia</td>\n",
       "      <td>17.075000</td>\n",
       "      <td>0.500000</td>\n",
       "    </tr>\n",
       "    <tr>\n",
       "      <th>(-34.9285, 138.6007)</th>\n",
       "      <th>data</th>\n",
       "      <td>Australia</td>\n",
       "      <td>19.428571</td>\n",
       "      <td>0.361200</td>\n",
       "    </tr>\n",
       "    <tr>\n",
       "      <th>(-33.8688, 151.2093)</th>\n",
       "      <th>data</th>\n",
       "      <td>Australia</td>\n",
       "      <td>20.778571</td>\n",
       "      <td>0.264650</td>\n",
       "    </tr>\n",
       "    <tr>\n",
       "      <th>(-31.9505, 115.8605)</th>\n",
       "      <th>data</th>\n",
       "      <td>Australia</td>\n",
       "      <td>23.457143</td>\n",
       "      <td>0.369750</td>\n",
       "    </tr>\n",
       "    <tr>\n",
       "      <th>(-28.0167, 153.4)</th>\n",
       "      <th>data</th>\n",
       "      <td>Australia</td>\n",
       "      <td>22.335714</td>\n",
       "      <td>0.296050</td>\n",
       "    </tr>\n",
       "    <tr>\n",
       "      <th>(1.2833, 103.8333)</th>\n",
       "      <th>data</th>\n",
       "      <td>Singapore</td>\n",
       "      <td>28.976596</td>\n",
       "      <td>0.104425</td>\n",
       "    </tr>\n",
       "    <tr>\n",
       "      <th>(23.7, 121.0)</th>\n",
       "      <th>data</th>\n",
       "      <td>Taiwan*</td>\n",
       "      <td>19.302000</td>\n",
       "      <td>0.096500</td>\n",
       "    </tr>\n",
       "    <tr>\n",
       "      <th>(25.3548, 51.1839)</th>\n",
       "      <th>data</th>\n",
       "      <td>Qatar</td>\n",
       "      <td>23.006250</td>\n",
       "      <td>0.053100</td>\n",
       "    </tr>\n",
       "    <tr>\n",
       "      <th>(26.0275, 50.55)</th>\n",
       "      <th>data</th>\n",
       "      <td>Bahrain</td>\n",
       "      <td>21.506667</td>\n",
       "      <td>0.120200</td>\n",
       "    </tr>\n",
       "  </tbody>\n",
       "</table>\n",
       "</div>"
      ],
      "text/plain": [
       "                                 Country_Region  avg_interval_tmp     GF_Q3\n",
       "coordinate           information                                           \n",
       "(-41.4545, 145.9707) data             Australia         13.687500  0.375000\n",
       "(-37.8136, 144.9631) data             Australia         17.128571  0.342500\n",
       "(-35.4735, 149.0124) data             Australia         17.075000  0.500000\n",
       "(-34.9285, 138.6007) data             Australia         19.428571  0.361200\n",
       "(-33.8688, 151.2093) data             Australia         20.778571  0.264650\n",
       "(-31.9505, 115.8605) data             Australia         23.457143  0.369750\n",
       "(-28.0167, 153.4)    data             Australia         22.335714  0.296050\n",
       "(1.2833, 103.8333)   data             Singapore         28.976596  0.104425\n",
       "(23.7, 121.0)        data               Taiwan*         19.302000  0.096500\n",
       "(25.3548, 51.1839)   data                 Qatar         23.006250  0.053100\n",
       "(26.0275, 50.55)     data               Bahrain         21.506667  0.120200"
      ]
     },
     "execution_count": 97,
     "metadata": {},
     "output_type": "execute_result"
    }
   ],
   "source": [
    "cold = ['Sweden', 'Norway', 'Canada', 'Ireland', 'Denmark']\n",
    "hot = ['Australia', 'Taiwan*', 'Singapore', 'Qatar', 'Bahrain']\n",
    "colds = hopkins_confirmed[hopkins_confirmed['Country_Region'].isin(cold)]\\\n",
    "        [['Country_Region', 'avg_interval_tmp', 'GF_Q3']]\n",
    "hots = hopkins_confirmed[hopkins_confirmed['Country_Region'].isin(hot)]\\\n",
    "        [['Country_Region', 'avg_interval_tmp', 'GF_Q3']]\n",
    "\n",
    "print(colds)\n",
    "print(hots)"
   ]
  },
  {
   "cell_type": "code",
   "execution_count": 195,
   "metadata": {},
   "outputs": [
    {
     "name": "stdout",
     "output_type": "stream",
     "text": [
      "p-value for this rank sum is 0.0015571537657775416\n"
     ]
    }
   ],
   "source": [
    "colds = hopkins_confirmed[hopkins_confirmed['Country_Region'].isin(cold)]\\\n",
    "        [['GF_Q3']]\n",
    "\n",
    "hots = hopkins_confirmed[hopkins_confirmed['Country_Region'].isin(hot)]\\\n",
    "        [['GF_Q3']]\n",
    "\n",
    "colds.reset_index(level=[0,1], drop=True, inplace=True)\n",
    "hots.reset_index(level=[0,1], drop=True, inplace=True)\n",
    "colds.rename(columns={'GF_Q3': ''}, inplace=True)\n",
    "hots.rename(columns={'GF_Q3': ''}, inplace=True)\n",
    "colds = colds.T\n",
    "hots = hots.T\n",
    "colds = colds.add_prefix('c')\n",
    "hots = hots.add_prefix('h')\n",
    "\n",
    "ranks = colds.join(hots, lsuffix='first').rank(axis=1)\n",
    "\n",
    "h_list = [sample for sample in ranks.columns if 'h' in sample]\n",
    "c_list = [sample for sample in ranks.columns if 'c' in sample]\n",
    "\n",
    "h_sum = ranks[h_list].sum(axis=1)\n",
    "c_sum = ranks[c_list].sum(axis=1)\n",
    "\n",
    "b = len(colds.columns)\n",
    "n = b + len(hots.columns)\n",
    "expected_cold_sum = (b * (n + 1)) / 2\n",
    "sigma = math.sqrt(b * (n - b) * (n + 1) / 12)\n",
    "\n",
    "\n",
    "sums_normal = stats.norm(loc=expected_cold_sum, scale=sigma)\n",
    "\n",
    "print('p-value for this rank sum is {0}'.format(sums_normal.cdf(float(h_sum))))\n"
   ]
  },
  {
   "cell_type": "markdown",
   "metadata": {},
   "source": [
    "###### Linear regression"
   ]
  },
  {
   "cell_type": "code",
   "execution_count": null,
   "metadata": {},
   "outputs": [],
   "source": [
    "a"
   ]
  }
 ],
 "metadata": {
  "kernelspec": {
   "display_name": "Python 3",
   "language": "python",
   "name": "python3"
  },
  "language_info": {
   "codemirror_mode": {
    "name": "ipython",
    "version": 3
   },
   "file_extension": ".py",
   "mimetype": "text/x-python",
   "name": "python",
   "nbconvert_exporter": "python",
   "pygments_lexer": "ipython3",
   "version": "3.7.0"
  }
 },
 "nbformat": 4,
 "nbformat_minor": 2
}
