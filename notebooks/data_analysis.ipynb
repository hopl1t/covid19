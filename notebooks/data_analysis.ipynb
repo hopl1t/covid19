{
 "cells": [
  {
   "cell_type": "code",
   "execution_count": 50,
   "metadata": {},
   "outputs": [],
   "source": [
    "import random\n",
    "import math\n",
    "import warnings\n",
    "import pandas as pd\n",
    "import numpy as np\n",
    "import seaborn as sns\n",
    "import matplotlib.pyplot as plt\n",
    "from scipy import stats\n",
    "#from sklearn.mixture import GMM\n",
    "from sklearn.mixture import GaussianMixture\n",
    "from sklearn.datasets import load_boston\n",
    "from datetime import datetime\n",
    "from datetime import timedelta\n",
    "%matplotlib inline\n",
    "# plt.matplotlib.rcParams.update({'font.size': 50})\n",
    "warnings.filterwarnings('ignore')\n",
    "plt.rcParams['figure.figsize'] = (12.0, 8.0) # set default size of plots\n",
    "plt.rcParams['image.interpolation'] = 'nearest'\n",
    "plt.rcParams['image.cmap'] = 'gray'   \n",
    "plt.rcParams[\"patch.force_edgecolor\"] = False\n",
    "plt.rc('figure', titlesize=25)"
   ]
  },
  {
   "cell_type": "code",
   "execution_count": 51,
   "metadata": {},
   "outputs": [],
   "source": [
    "conf_data = pd.read_csv('../augmented_datasets/tableau_conf_data.csv')\n",
    "death_data = pd.read_csv('../augmented_datasets/tableau_death_data.csv')"
   ]
  },
  {
   "cell_type": "markdown",
   "metadata": {},
   "source": [
    "###### CORRELATIONS AND SCATTER PLOTS AVG TMP VS MAX CASES CONFIRMED AND DEATHS\n",
    "Note that as the precipitation data is not relaible it is discarded"
   ]
  },
  {
   "cell_type": "code",
   "execution_count": 52,
   "metadata": {},
   "outputs": [
    {
     "name": "stdout",
     "output_type": "stream",
     "text": [
      "\n",
      "Death cases max_cases correaltion Pearson\n",
      "Cases            0.999995\n",
      "Difference       0.854931\n",
      "avg_wind         0.074313\n",
      "Long             0.067427\n",
      "Lat              0.063744\n",
      "growth_factor    0.030954\n",
      "avg_RH           0.026782\n",
      "Unnamed: 0       0.019409\n",
      "avg_tmp         -0.000570\n",
      "avg_m_RH        -0.014980\n",
      "avg_m_tmp       -0.019967\n",
      "avg_precip      -0.033760\n",
      "avg_m_wind      -0.053240\n",
      "avg_m_precip    -0.060771\n",
      "dtype: float64\n",
      "\n",
      "Death cases max_cases correaltion Spearman\n",
      "Cases            0.912620\n",
      "growth_factor    0.667735\n",
      "Difference       0.609644\n",
      "Lat              0.208153\n",
      "avg_m_RH         0.080111\n",
      "Long             0.048278\n",
      "Unnamed: 0       0.015495\n",
      "avg_precip      -0.026353\n",
      "avg_m_wind      -0.029692\n",
      "avg_wind        -0.049419\n",
      "avg_RH          -0.066142\n",
      "avg_m_precip    -0.082325\n",
      "avg_tmp         -0.164779\n",
      "avg_m_tmp       -0.169469\n",
      "dtype: float64\n",
      "\n",
      "Confirmed cases max_cases correaltion Pearson\n",
      "Cases            0.999954\n",
      "Difference       0.696918\n",
      "Long             0.104040\n",
      "Unnamed: 0       0.088213\n",
      "Lat              0.075724\n",
      "avg_wind         0.029156\n",
      "avg_m_RH         0.009652\n",
      "avg_RH          -0.001159\n",
      "avg_tmp         -0.026692\n",
      "avg_precip      -0.028056\n",
      "growth_factor   -0.029447\n",
      "avg_m_wind      -0.037416\n",
      "avg_m_tmp       -0.040973\n",
      "avg_m_precip    -0.068231\n",
      "dtype: float64\n",
      "\n",
      "Confirmed cases max_cases correaltion Spearman\n",
      "Cases            0.942328\n",
      "Difference       0.772195\n",
      "growth_factor    0.472688\n",
      "Unnamed: 0       0.436483\n",
      "Long             0.388604\n",
      "Lat              0.094302\n",
      "avg_wind         0.076165\n",
      "avg_m_RH         0.040634\n",
      "avg_m_wind       0.039457\n",
      "avg_tmp         -0.055146\n",
      "avg_m_tmp       -0.079679\n",
      "avg_RH          -0.098471\n",
      "avg_precip      -0.174165\n",
      "avg_m_precip    -0.374755\n",
      "dtype: float64\n"
     ]
    },
    {
     "data": {
      "image/png": "[encoded data removed]",
      "text/plain": [
       "<Figure size 1080x504 with 2 Axes>"
      ]
     },
     "metadata": {
      "needs_background": "light"
     },
     "output_type": "display_data"
    }
   ],
   "source": [
    "TMP_RATE = 1\n",
    "deaths = death_data[death_data['Date'] == '3/22/2020'][death_data['max_cases'].astype(int) > 0]\n",
    "confs = conf_data[conf_data['Date'] == '3/22/2020'][conf_data['max_cases'].astype(int) > 0]\n",
    "\n",
    "deaths['avg_m_tmp'] = deaths['avg_m_tmp'] * TMP_RATE\n",
    "confs['avg_m_tmp'] = confs['avg_m_tmp'] * TMP_RATE\n",
    "\n",
    "death_corrs = deaths.corr().unstack().sort_values(kind=\"quicksort\", ascending=False)\n",
    "death_corrs = death_corrs[death_corrs != 1]\n",
    "_ = death_corrs.drop_duplicates()\n",
    "print('\\nDeath cases max_cases correaltion Pearson')\n",
    "print(death_corrs['max_cases'])\n",
    "\n",
    "death_corrs = deaths.corr('spearman').unstack().sort_values(kind=\"quicksort\", ascending=False)\n",
    "death_corrs = death_corrs[death_corrs != 1]\n",
    "_ = death_corrs.drop_duplicates()\n",
    "print('\\nDeath cases max_cases correaltion Spearman')\n",
    "print(death_corrs['max_cases'])\n",
    "\n",
    "conf_corrs = confs.corr().unstack().sort_values(kind=\"quicksort\", ascending=False)\n",
    "conf_corrs = conf_corrs[conf_corrs != 1]\n",
    "_ = conf_corrs.drop_duplicates()\n",
    "print('\\nConfirmed cases max_cases correaltion Pearson')\n",
    "print(conf_corrs['max_cases'])\n",
    "\n",
    "conf_corrs = confs.corr('spearman').unstack().sort_values(kind=\"quicksort\", ascending=False)\n",
    "conf_corrs = conf_corrs[conf_corrs != 1]\n",
    "_ = conf_corrs.drop_duplicates()\n",
    "print('\\nConfirmed cases max_cases correaltion Spearman')\n",
    "print(conf_corrs['max_cases'])\n",
    "\n",
    "fig, axes = plt.subplots(1, 2, figsize=(15, 7))\n",
    "_ = axes[0].scatter(conf_data['max_cases'], conf_data['avg_m_tmp'])\n",
    "_ = axes[1].scatter(death_data['Cases'], death_data['avg_m_tmp'])\n",
    "_ = axes[0].set_xlabel('max confirmed cases')\n",
    "_ = axes[0].set_ylabel('avg tmp')\n",
    "_ = axes[0].set_title('Confirmed cases')\n",
    "_ = axes[1].set_xlabel('max deaths')\n",
    "_ = axes[1].set_ylabel('avg tmp')\n",
    "_ = axes[1].set_title('Death cases')"
   ]
  },
  {
   "cell_type": "markdown",
   "metadata": {},
   "source": [
    "We take the interasting correlations and compute their p-values:"
   ]
  },
  {
   "cell_type": "code",
   "execution_count": 53,
   "metadata": {},
   "outputs": [
    {
     "name": "stdout",
     "output_type": "stream",
     "text": [
      "Confirmed cases max_cases vs avg_m_tmp correaltion Pearson: -0.040973440447374956, p-value: 0.42948804586549694\n",
      "Confirmed cases max_cases vs avg_m_tmp correaltion Spearman: -0.07967929410096322, p-value: 0.12399662751772648\n"
     ]
    }
   ],
   "source": [
    "corr_ = stats.pearsonr(confs['max_cases'], confs['avg_m_tmp'])\n",
    "print('Confirmed cases max_cases vs avg_m_tmp correaltion Pearson: {0}, p-value: {1}'.format(corr_[0], corr_[1]))\n",
    "\n",
    "corr_ = stats.spearmanr(confs['max_cases'], confs['avg_m_tmp'])\n",
    "print('Confirmed cases max_cases vs avg_m_tmp correaltion Spearman: {0}, p-value: {1}'.format(corr_[0], corr_[1]))"
   ]
  },
  {
   "cell_type": "markdown",
   "metadata": {},
   "source": [
    "###### Non perfect correlations between max_cases and cases result from instances where the amount of cases on the 23.3 was smaller then the maximal, as shown on the next block"
   ]
  },
  {
   "cell_type": "code",
   "execution_count": null,
   "metadata": {},
   "outputs": [],
   "source": [
    "test = confs.drop(confs[confs['Cases'] < confs['max_cases']].index)\n",
    "test_corrs = test.corr().unstack().sort_values(kind=\"quicksort\", ascending=False)\n",
    "# test_corrs = test_corrs[test_corrs != 1]\n",
    "_ = test_corrs.drop_duplicates()\n",
    "print('\\nDeath cases max_cases correaltion Pearson')\n",
    "print(test_corrs['max_cases'])"
   ]
  },
  {
   "cell_type": "markdown",
   "metadata": {},
   "source": [
    "###### CORRELATIONS AND SCATTER PLOTS AVG TMP VS GROWTH FACTOR CONFIRMED AND DEATHS #"
   ]
  },
  {
   "cell_type": "code",
   "execution_count": 189,
   "metadata": {},
   "outputs": [
    {
     "name": "stdout",
     "output_type": "stream",
     "text": [
      "\n",
      "Confirmed cases growth_rate correaltion Pearson\n",
      "avg_m_precip        0.297637\n",
      "avg_precip          0.130394\n",
      "avg_RH              0.098053\n",
      "avg_interval_RH     0.068870\n",
      "avg_m_RH            0.029771\n",
      "avg_interval_tmp    0.013423\n",
      "avg_m_wind         -0.005156\n",
      "avg_m_tmp          -0.012796\n",
      "Lat                -0.026151\n",
      "Unnamed: 0         -0.033470\n",
      "avg_wind           -0.039720\n",
      "Cases              -0.075358\n",
      "max_cases          -0.075795\n",
      "avg_tmp            -0.118059\n",
      "Long               -0.404631\n",
      "dtype: float64\n",
      "\n",
      "Confirmed cases growth_rate correaltion Spearman\n",
      "avg_m_precip        0.346413\n",
      "avg_precip          0.254514\n",
      "Cases               0.098864\n",
      "max_cases           0.090571\n",
      "avg_RH              0.087269\n",
      "avg_interval_RH     0.054215\n",
      "Lat                 0.028086\n",
      "avg_m_wind          0.019723\n",
      "avg_interval_tmp   -0.004259\n",
      "Unnamed: 0         -0.004550\n",
      "avg_wind           -0.008663\n",
      "avg_m_RH           -0.013192\n",
      "avg_m_tmp          -0.040365\n",
      "avg_tmp            -0.139438\n",
      "Long               -0.455052\n",
      "dtype: float64\n",
      "\n",
      "Death cases growth_rate correaltion Pearson\n",
      "avg_m_RH        0.149706\n",
      "Difference      0.113017\n",
      "avg_precip      0.097454\n",
      "Lat             0.088736\n",
      "avg_m_precip    0.074761\n",
      "avg_RH          0.058291\n",
      "Unnamed: 0      0.041314\n",
      "Cases           0.031306\n",
      "max_cases       0.030954\n",
      "avg_m_wind      0.003745\n",
      "avg_wind       -0.049518\n",
      "avg_m_tmp      -0.078092\n",
      "avg_tmp        -0.149629\n",
      "Long           -0.154452\n",
      "dtype: float64\n",
      "\n",
      "Death cases growth_rate correaltion Spearman\n",
      "Cases           0.701020\n",
      "max_cases       0.667735\n",
      "Difference      0.583859\n",
      "avg_m_RH        0.195204\n",
      "Lat             0.151948\n",
      "Unnamed: 0      0.102005\n",
      "avg_precip      0.089959\n",
      "avg_RH          0.015044\n",
      "avg_m_wind     -0.000624\n",
      "avg_wind       -0.011876\n",
      "avg_m_precip   -0.046933\n",
      "avg_m_tmp      -0.080641\n",
      "Long           -0.130623\n",
      "avg_tmp        -0.142782\n",
      "dtype: float64\n"
     ]
    },
    {
     "data": {
      "image/png": "[encoded data removed]",
      "text/plain": [
       "<Figure size 1080x504 with 2 Axes>"
      ]
     },
     "metadata": {
      "needs_background": "light"
     },
     "output_type": "display_data"
    }
   ],
   "source": [
    "TMP_RATE = 1\n",
    "confs = conf_data[conf_data['Date'] == '3/22/2020'][conf_data['Cases'].astype(int) > 0]\n",
    "deaths = death_data[death_data['Date'] == '3/22/2020'][death_data['max_cases'].astype(int) > 0]\n",
    "confs['avg_m_tmp'] = confs['avg_m_tmp'] * TMP_RATE\n",
    "deaths['avg_m_tmp'] = deaths['avg_m_tmp'] * TMP_RATE\n",
    "\n",
    "conf_corrs_p = confs.corr().unstack().sort_values(kind=\"quicksort\", ascending=False)\n",
    "conf_corrs_p = conf_corrs_p[conf_corrs_p != 1]\n",
    "_ = conf_corrs_p.drop_duplicates()\n",
    "print('\\nConfirmed cases growth_rate correaltion Pearson')\n",
    "print(conf_corrs_p['growth_factor'])\n",
    "\n",
    "conf_corrs_s = confs.corr('spearman').unstack().sort_values(kind=\"quicksort\", ascending=False)\n",
    "conf_corrs_s = conf_corrs_s[conf_corrs_s != 1]\n",
    "_ = conf_corrs_s.drop_duplicates()\n",
    "print('\\nConfirmed cases growth_rate correaltion Spearman')\n",
    "print(conf_corrs_s['growth_factor'])\n",
    "\n",
    "death_corrs_p = deaths.corr().unstack().sort_values(kind=\"quicksort\", ascending=False)\n",
    "death_corrs_p = death_corrs_p[death_corrs_p != 1]\n",
    "_ = death_corrs_p.drop_duplicates()\n",
    "print('\\nDeath cases growth_rate correaltion Pearson')\n",
    "print(death_corrs_p['growth_factor'])\n",
    "\n",
    "death_corrs_s = deaths.corr('spearman').unstack().sort_values(kind=\"quicksort\", ascending=False)\n",
    "death_corrs_s = death_corrs_s[death_corrs_s != 1]\n",
    "_ = death_corrs_s.drop_duplicates()\n",
    "print('\\nDeath cases growth_rate correaltion Spearman')\n",
    "print(death_corrs_s['growth_factor'])\n",
    "\n",
    "fig, axes = plt.subplots(1, 2, figsize=(15, 7))\n",
    "_ = axes[0].scatter(conf_data[conf_data['growth_factor'].astype(float) > 1.0]['growth_factor'],\\\n",
    "                    conf_data[conf_data['growth_factor'].astype(float) > 1.0]['avg_m_tmp'])\n",
    "\n",
    "_ = axes[1].scatter(death_data[death_data['growth_factor'].astype(float) > 1.0]['growth_factor'],\\\n",
    "                    death_data[death_data['growth_factor'].astype(float) > 1.0]['avg_m_tmp'])\n",
    "\n",
    "n = len(conf_data[conf_data['growth_factor'].astype(int) > 1])\n",
    "\n",
    "_ = axes[0].set_xlim(0.95, 2.5)\n",
    "_ = axes[1].set_xlim(0.95, 2.5)\n",
    "_ = axes[0].set_xlabel('4 days max growth factor')\n",
    "_ = axes[0].set_ylabel('AVG TMP in last month')\n",
    "_ = axes[0].set_title('Confirmed cases, n={0}'.format(n))\n",
    "_ = axes[1].set_xlabel('4 days max growth factor')\n",
    "_ = axes[1].set_ylabel('AVG TMP in last month')\n",
    "_ = axes[1].set_title('Death cases, n={0}'.format(n))"
   ]
  },
  {
   "cell_type": "markdown",
   "metadata": {},
   "source": [
    "Significant correlations with p-values:"
   ]
  },
  {
   "cell_type": "code",
   "execution_count": null,
   "metadata": {},
   "outputs": [],
   "source": [
    "corr_ = stats.pearsonr(confs['growth_factor'], confs['avg_m_tmp'])\n",
    "print('Confirmed cases growth_factor vs avg_m_tmp correaltion Pearson: {0}, p-value: {1}'.format(corr_[0], corr_[1]))\n",
    "\n",
    "corr_ = stats.spearmanr(confs['growth_factor'], confs['avg_m_tmp'])\n",
    "print('Confirmed cases growth_factor vs avg_m_tmp correaltion Spearman: {0}, p-value: {1}'.format(corr_[0], corr_[1]))\n",
    "\n",
    "corr_ = stats.pearsonr(confs['growth_factor'], confs['avg_tmp'])\n",
    "print('Confirmed cases growth_factor vs avg_tmp correaltion Pearson: {0}, p-value: {1}'.format(corr_[0], corr_[1]))\n",
    "\n",
    "corr_ = stats.spearmanr(confs['growth_factor'], confs['avg_tmp'])\n",
    "print('Confirmed cases growth_factor vs avg_tmp correaltion Spearman: {0}, p-value: {1}'.format(corr_[0], corr_[1]))\n",
    "\n",
    "corr_ = stats.pearsonr(deaths['growth_factor'], deaths['avg_m_tmp'])\n",
    "print('Death cases growth_factor vs avg_m_tmp correaltion Pearson: {0}, p-value: {1}'.format(corr_[0], corr_[1]))\n",
    "\n",
    "corr_ = stats.spearmanr(deaths['growth_factor'], deaths['avg_m_tmp'])\n",
    "print('Death cases growth_factor vs avg_m_tmp correaltion Spearman: {0}, p-value: {1}'.format(corr_[0], corr_[1]))\n",
    "\n",
    "corr_ = stats.pearsonr(deaths['growth_factor'], deaths['avg_tmp'])\n",
    "print('Death cases growth_factor vs avg_tmp correaltion Pearson: {0}, p-value: {1}'.format(corr_[0], corr_[1]))\n",
    "\n",
    "corr_ = stats.spearmanr(deaths['growth_factor'], deaths['avg_tmp'])\n",
    "print('Death cases growth_factor vs avg_tmp correaltion Spearman: {0}, p-value: {1}'.format(corr_[0], corr_[1]))"
   ]
  },
  {
   "cell_type": "markdown",
   "metadata": {},
   "source": [
    "###### Calculating the 5%-max interval and it's avg climate"
   ]
  },
  {
   "cell_type": "code",
   "execution_count": 81,
   "metadata": {},
   "outputs": [],
   "source": [
    "conf_data['5% date'] = ''\n",
    "conf_data['avg_interval_tmp'] = np.nan\n",
    "conf_data['avg_interval_RH'] = np.nan\n",
    "coords = conf_data.groupby(['Lat', 'Long']).size().index.tolist()"
   ]
  },
  {
   "cell_type": "code",
   "execution_count": 166,
   "metadata": {},
   "outputs": [],
   "source": [
    "for coord in coords:\n",
    "    lat = coord[0]\n",
    "    long = coord[1]\n",
    "    max_cases = int(conf_data.loc[conf_data['Lat'] == lat]\\\n",
    "                         .loc[conf_data['Long'] == long]['max_cases'].values[0])\n",
    "    if not pd.notna(max_cases):\n",
    "        continue\n",
    "    five_prcnt = int(0.05 * max_cases)\n",
    "    \n",
    "    five_prcnt_date = conf_data.loc[conf_data['Lat'] == lat]\\\n",
    "                            .loc[conf_data['Long'] == long][conf_data['Cases'] >= five_prcnt]['Date'].min()\n",
    "    \n",
    "    max_date = conf_data.loc[conf_data['Lat'] == lat]\\\n",
    "                         .loc[conf_data['Long'] == long]['max_date'].values[0]\n",
    "    \n",
    "    interval = conf_data.loc[conf_data['Lat'] == lat]\\\n",
    "                            .loc[conf_data['Long'] == long][(conf_data['Date'] >= five_prcnt_date)\\\n",
    "                                                            & (conf_data['Date'] <= max_date)]\n",
    "    indices = conf_data.loc[conf_data['Lat'] == lat]\\\n",
    "                        .loc[conf_data['Long'] == long].index.tolist()\n",
    "    for index in indices:\n",
    "        conf_data.at[index, '5% date'] = five_prcnt_date \n",
    "        conf_data.at[index, 'avg_interval_tmp'] = interval['avg_tmp'].mean()\n",
    "        conf_data.at[index, 'avg_interval_RH'] = interval['avg_RH'].mean()"
   ]
  }
 ],
 "metadata": {
  "kernelspec": {
   "display_name": "Python 3",
   "language": "python",
   "name": "python3"
  },
  "language_info": {
   "codemirror_mode": {
    "name": "ipython",
    "version": 3
   },
   "file_extension": ".py",
   "mimetype": "text/x-python",
   "name": "python",
   "nbconvert_exporter": "python",
   "pygments_lexer": "ipython3",
   "version": "3.7.0"
  }
 },
 "nbformat": 4,
 "nbformat_minor": 2
}
