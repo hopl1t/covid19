{
 "cells": [
  {
   "cell_type": "markdown",
   "metadata": {},
   "source": [
    "## add gdp and urbanization data notebook"
   ]
  },
  {
   "cell_type": "markdown",
   "metadata": {},
   "source": [
    "Adds GDP (in billion USD) and Urbanization (in population percentage) columns to given tableau and hopkins augmented data.  \n",
    "Contact ShuliFinley@gmail.com for questions :)"
   ]
  },
  {
   "cell_type": "code",
   "execution_count": 4,
   "metadata": {},
   "outputs": [],
   "source": [
    "import pandas as pd\n",
    "import numpy as np"
   ]
  },
  {
   "cell_type": "markdown",
   "metadata": {},
   "source": [
    "Import tableau and hopkins data"
   ]
  },
  {
   "cell_type": "code",
   "execution_count": 96,
   "metadata": {},
   "outputs": [],
   "source": [
    "tableau_conf_data = pd.read_csv('../augmented_datasets/tableau_conf_data.csv')\n",
    "tableau_death_data = pd.read_csv('../augmented_datasets/tableau_death_data.csv')\n",
    "\n",
    "hopkins_conf_data = pd.read_csv('../augmented_datasets/hopkins_conf.csv')\n",
    "hopkins_death_data = pd.read_csv('../augmented_datasets/hopkins_death.csv')\n",
    "\n",
    "# hopkins_conf_data.head()"
   ]
  },
  {
   "cell_type": "markdown",
   "metadata": {},
   "source": [
    "Import gdp per country and per state data"
   ]
  },
  {
   "cell_type": "code",
   "execution_count": 20,
   "metadata": {},
   "outputs": [],
   "source": [
    "# source: http://wdi.worldbank.org/table/4.2# (2018)\n",
    "gdp_country = pd.read_csv('../external_datasets/MDI_GDP_1.csv')\n",
    "gdp_country.columns=['Country_Region', 'GDP']\n",
    "\n",
    "# source: https://www.statista.com/statistics/248023/us-gross-domestic-product-gdp-by-state/ \n",
    "gdp_state = pd.read_csv('../external_datasets/GDP_states_data.csv')\n",
    "gdp_state.columns = ['Province_State', 'GDP']"
   ]
  },
  {
   "cell_type": "markdown",
   "metadata": {},
   "source": [
    "Import urbanization per country and per state data"
   ]
  },
  {
   "cell_type": "code",
   "execution_count": 21,
   "metadata": {},
   "outputs": [],
   "source": [
    "# source: http://wdi.worldbank.org/table/4.2# (2018)\n",
    "urban_country = pd.read_csv('../external_datasets/urbanization_data.csv')\n",
    "urban_country.columns=['Country_Region', 'Urbanization']\n",
    "\n",
    "# source: US census bureau (most updated was is from 2010)\n",
    "urban_state = pd.read_csv('../external_datasets/urbanization_states.csv')\n",
    "urban_state.columns = ['Province_State', 'Urbanization']\n"
   ]
  },
  {
   "cell_type": "markdown",
   "metadata": {},
   "source": [
    "data preprocessing functions"
   ]
  },
  {
   "cell_type": "code",
   "execution_count": 22,
   "metadata": {},
   "outputs": [],
   "source": [
    "\n",
    "def standardize_original_names(df):\n",
    "    df = df.replace({'Cape Verde': 'Cabo Verde',\n",
    "                     'Timor-Leste': 'East Timor',\n",
    "                     'Timor Leste': 'East Timor',\n",
    "                     'Taiwan*': 'Taiwan'\n",
    "                    })\n",
    "    return df\n",
    "\n",
    "# tableau_conf_data = standardize_original_names(tableau_conf_data)\n",
    "# tableau_death_data = standardize_original_names(tableau_death_data)\n",
    "# hopkins_conf_data = standardize_original_names(hopkins_conf_data)\n",
    "# hopkins_death_data = standardize_original_names(hopkins_death_data)\n"
   ]
  },
  {
   "cell_type": "code",
   "execution_count": 23,
   "metadata": {},
   "outputs": [],
   "source": [
    "index_dict = {\n",
    "    'gdp_country': 'Country_Region',\n",
    "    'gdp_state': 'Province_State',\n",
    "    'urban_country': 'Country_Region',\n",
    "    'urban_state': 'Province_State'    \n",
    "}\n",
    "\n",
    "    \n",
    "# # setting indices for more convenient access in lambda funtion in add_gdp_urban function\n",
    "# gdp_country = gdp_country.set_index(index_dict['gdp_country'])\n",
    "# gdp_state = gdp_state.set_index(index_dict['gdp_state'])\n",
    "# urban_country = urban_country.set_index(index_dict['urban_country'])\n",
    "# urban_state = urban_state.set_index(index_dict['urban_state'])"
   ]
  },
  {
   "cell_type": "code",
   "execution_count": 24,
   "metadata": {},
   "outputs": [],
   "source": [
    "def standardize_external_names(external_df):\n",
    "    external_df = external_df.replace({\n",
    "        'United States': 'US',\n",
    "        'Iran, Islamic Rep.': 'Iran',\n",
    "        'Congo, Rep.': 'Congo (Brazzaville)',\n",
    "        'Congo, Dem. Rep.': 'Congo (Kinshasa)',\n",
    "        'St. Lucia': 'Saint Lucia',\n",
    "        'Czech Republic':'Czechia',\n",
    "        'Kyrgyz Republic': 'Kyrgyzstan',\n",
    "        'Egypt, Arab Rep.': 'Egypt',\n",
    "        'Syrian Arab Republic': 'Syria',\n",
    "    #     'Cabo Verde': 'Cape Verde',\n",
    "        'Brunei Darussalam': 'Brunei',\n",
    "        'Slovak Republic': 'Slovakia',\n",
    "        'Korea, Rep.': 'Korea, South',\n",
    "        'Timor Leste': 'East Timor',\n",
    "        'St. Vincent and the Grenadines': 'Saint Vincent and the Grenadines',\n",
    "        })\n",
    "    return external_df\n",
    "\n",
    "# gdp_country = standardize_external_names(gdp_country)\n",
    "# urban_country = standardize_external_names(urban_country)"
   ]
  },
  {
   "cell_type": "markdown",
   "metadata": {},
   "source": [
    "this is where the magic happens"
   ]
  },
  {
   "cell_type": "code",
   "execution_count": 73,
   "metadata": {},
   "outputs": [],
   "source": [
    "def add_gdp_urban(original, gdp_country, gdp_state, urban_country, urban_state):\n",
    "    \n",
    "    original = standardize_original_names(original)\n",
    "\n",
    "    gdp_country = standardize_external_names(gdp_country)\n",
    "    urban_country = standardize_external_names(urban_country)\n",
    "    \n",
    "    # setting indices for more convenient access in lambda funtion below\n",
    "    gdp_country = gdp_country.set_index(index_dict['gdp_country'])\n",
    "    gdp_state = gdp_state.set_index(index_dict['gdp_state'])\n",
    "    urban_country = urban_country.set_index(index_dict['urban_country'])\n",
    "    urban_state = urban_state.set_index(index_dict['urban_state'])\n",
    "    \n",
    "    # if there is no state data, take country data, and if there is also no country data, put NaN\n",
    "    original['GDP'] = original.apply(lambda row: gdp_state.loc[row['Province_State'],'GDP'] if row['Province_State'] in list(gdp_state.index) else (gdp_country.loc[row['Country_Region'],'GDP'] if row['Country_Region'] in list(gdp_country.index) else np.NaN), axis=1) \n",
    "    original['Urbanization'] = original.apply(lambda row: urban_state.loc[row['Province_State'],'Urbanization'] if row['Province_State'] in list(urban_state.index) else (urban_country.loc[row['Country_Region'],'Urbanization'] if row['Country_Region'] in list(urban_country.index) else np.NaN), axis=1)\n",
    "\n",
    "    # inserting GDP and Urbanization columns to be after Province_State column\n",
    "    new_index = list(original.columns).index('Province_State')\n",
    "    old_index = len(original.columns) - 1\n",
    "    new_columns = list(original.columns)\n",
    "    new_columns.insert(new_index+1, new_columns.pop(old_index))\n",
    "    new_columns.insert(new_index+1, new_columns.pop(old_index))\n",
    "    \n",
    "    return original[new_columns]"
   ]
  },
  {
   "cell_type": "code",
   "execution_count": 88,
   "metadata": {},
   "outputs": [],
   "source": [
    "\n",
    "# pd.set_option('display.max_columns', None)\n",
    "\n",
    "new_tableau_conf = add_gdp_urban(tableau_conf_data, gdp_country, gdp_state, urban_country, urban_state)\n",
    "# new_tableau_conf.head(5)\n"
   ]
  },
  {
   "cell_type": "code",
   "execution_count": 89,
   "metadata": {},
   "outputs": [],
   "source": [
    "new_tableau_conf.to_csv('../augmented_datasets/tableau_conf_augmented_gdp_urban.csv')\n"
   ]
  },
  {
   "cell_type": "code",
   "execution_count": 90,
   "metadata": {},
   "outputs": [],
   "source": [
    "new_tableau_death = add_gdp_urban(tableau_death_data, gdp_country, gdp_state, urban_country, urban_state)\n"
   ]
  },
  {
   "cell_type": "code",
   "execution_count": 91,
   "metadata": {},
   "outputs": [],
   "source": [
    "new_tableau_death.to_csv('../augmented_datasets/tableau_death_augmented_gdp_urban.csv')\n"
   ]
  },
  {
   "cell_type": "code",
   "execution_count": 92,
   "metadata": {},
   "outputs": [],
   "source": [
    "new_hopkins_conf = add_gdp_urban(hopkins_conf_data, gdp_country, gdp_state, urban_country, urban_state)\n"
   ]
  },
  {
   "cell_type": "code",
   "execution_count": 93,
   "metadata": {},
   "outputs": [],
   "source": [
    "new_hopkins_conf.to_csv('../augmented_datasets/hopkins_conf_augmented_gdp_urban.csv')\n"
   ]
  },
  {
   "cell_type": "code",
   "execution_count": 94,
   "metadata": {},
   "outputs": [],
   "source": [
    "new_hopkins_death = add_gdp_urban(hopkins_conf_data, gdp_country, gdp_state, urban_country, urban_state)\n"
   ]
  },
  {
   "cell_type": "code",
   "execution_count": 95,
   "metadata": {},
   "outputs": [],
   "source": [
    "new_hopkins_death.to_csv('../augmented_datasets/hopkins_death_augmented_gdp_urban.csv')\n"
   ]
  },
  {
   "cell_type": "code",
   "execution_count": null,
   "metadata": {},
   "outputs": [],
   "source": []
  }
 ],
 "metadata": {
  "kernelspec": {
   "display_name": "Python 3",
   "language": "python",
   "name": "python3"
  },
  "language_info": {
   "codemirror_mode": {
    "name": "ipython",
    "version": 3
   },
   "file_extension": ".py",
   "mimetype": "text/x-python",
   "name": "python",
   "nbconvert_exporter": "python",
   "pygments_lexer": "ipython3",
   "version": "3.7.5"
  }
 },
 "nbformat": 4,
 "nbformat_minor": 4
}
